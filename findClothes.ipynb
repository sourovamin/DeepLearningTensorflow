{
  "nbformat": 4,
  "nbformat_minor": 0,
  "metadata": {
    "colab": {
      "name": "findClothes.ipynb",
      "version": "0.3.2",
      "provenance": [],
      "include_colab_link": true
    },
    "kernelspec": {
      "name": "python3",
      "display_name": "Python 3"
    }
  },
  "cells": [
    {
      "cell_type": "markdown",
      "metadata": {
        "id": "view-in-github",
        "colab_type": "text"
      },
      "source": [
        "<a href=\"https://colab.research.google.com/github/sourovamin/DeepLearningTensorflow/blob/master/findClothes.ipynb\" target=\"_parent\"><img src=\"https://colab.research.google.com/assets/colab-badge.svg\" alt=\"Open In Colab\"/></a>"
      ]
    },
    {
      "cell_type": "markdown",
      "metadata": {
        "id": "tJpHU1MXDOtI",
        "colab_type": "text"
      },
      "source": [
        "Import Tensorflow and check the version"
      ]
    },
    {
      "cell_type": "code",
      "metadata": {
        "id": "3xPFwhLql-me",
        "colab_type": "code",
        "colab": {
          "base_uri": "https://localhost:8080/",
          "height": 34
        },
        "outputId": "a088544c-dd04-4bb6-eb81-65d02b5c376c"
      },
      "source": [
        "import tensorflow as tf\n",
        "print(tf.__version__)\n",
        "from tensorflow import keras"
      ],
      "execution_count": 3,
      "outputs": [
        {
          "output_type": "stream",
          "text": [
            "1.13.1\n"
          ],
          "name": "stdout"
        }
      ]
    },
    {
      "cell_type": "markdown",
      "metadata": {
        "id": "OU7kvhtSDUvV",
        "colab_type": "text"
      },
      "source": [
        "Load Fashion MNIST dataset"
      ]
    },
    {
      "cell_type": "code",
      "metadata": {
        "id": "sa69oC-OmLNf",
        "colab_type": "code",
        "colab": {}
      },
      "source": [
        "mnist = tf.keras.datasets.fashion_mnist"
      ],
      "execution_count": 0,
      "outputs": []
    },
    {
      "cell_type": "markdown",
      "metadata": {
        "id": "qHfnXlqDDp89",
        "colab_type": "text"
      },
      "source": [
        "Calling load_data on this object will give you two sets of two lists, these will be the training and testing values for the graphics that contain the clothing items and their labels"
      ]
    },
    {
      "cell_type": "code",
      "metadata": {
        "id": "SsHnc3BlDrh5",
        "colab_type": "code",
        "colab": {
          "base_uri": "https://localhost:8080/",
          "height": 153
        },
        "outputId": "3c7776bc-c1eb-4ecf-9f6f-868210cf8566"
      },
      "source": [
        "(training_images, training_labels), (test_images, test_labels) = mnist.load_data()"
      ],
      "execution_count": 5,
      "outputs": [
        {
          "output_type": "stream",
          "text": [
            "Downloading data from https://storage.googleapis.com/tensorflow/tf-keras-datasets/train-labels-idx1-ubyte.gz\n",
            "32768/29515 [=================================] - 0s 0us/step\n",
            "Downloading data from https://storage.googleapis.com/tensorflow/tf-keras-datasets/train-images-idx3-ubyte.gz\n",
            "26427392/26421880 [==============================] - 0s 0us/step\n",
            "Downloading data from https://storage.googleapis.com/tensorflow/tf-keras-datasets/t10k-labels-idx1-ubyte.gz\n",
            "8192/5148 [===============================================] - 0s 0us/step\n",
            "Downloading data from https://storage.googleapis.com/tensorflow/tf-keras-datasets/t10k-images-idx3-ubyte.gz\n",
            "4423680/4422102 [==============================] - 0s 0us/step\n"
          ],
          "name": "stdout"
        }
      ]
    },
    {
      "cell_type": "markdown",
      "metadata": {
        "id": "sDW15Y0IEU3X",
        "colab_type": "text"
      },
      "source": [
        "What does these values look like? Let's print a training image, and a training label to see"
      ]
    },
    {
      "cell_type": "code",
      "metadata": {
        "id": "lxj36EoaEV0Z",
        "colab_type": "code",
        "colab": {
          "base_uri": "https://localhost:8080/",
          "height": 1238
        },
        "outputId": "adaa1e5c-638f-4990-f139-230e35ebf5c6"
      },
      "source": [
        "import matplotlib.pyplot as plt\n",
        "plt.imshow(training_images[45])\n",
        "print(training_labels[45])\n",
        "print(training_images[45])"
      ],
      "execution_count": 6,
      "outputs": [
        {
          "output_type": "stream",
          "text": [
            "2\n",
            "[[  0   0   0   1   0   0   0   0   0  34 148 202 107  84 162 198  90  26\n",
            "    0   0   0   0   0   0   0   0   0   0]\n",
            " [  0   0   0   0   0   0  21 107 166 168 152 204 238 248 237 190 142 178\n",
            "  158  98  17   0   0   0   0   0   0   0]\n",
            " [  0   0   0   1   0  55 188 140 131 121 119 116 146 157 132 115 136 125\n",
            "  140 143 181  51   0   0   0   0   0   0]\n",
            " [  0   0   0   0   0 167 134 113 130 134 140 132 125 125 131 135 130 133\n",
            "  131 115 135 163   6   0   0   0   0   0]\n",
            " [  0   0   0   0  58 148 133 124 134 128 135 128 133 130 133 137 138 130\n",
            "  124 130 133 147  82   0   1   0   0   0]\n",
            " [  0   0   0   0  86 148 158 139 124 120 131 134 132 134 124 134 132 137\n",
            "  126 137 136 146 114   0   0   0   0   0]\n",
            " [  0   0   0   0 112 141 174 143 117 134 130 128 131 136 134 128 128 131\n",
            "  106 187 149 147 143   0   0   0   0   0]\n",
            " [  0   0   0   0 134 151 167 154 114 134 138 139 135 135 130 130 124 129\n",
            "  119 229 141 145 164   0   0   0   0   0]\n",
            " [  0   0   0   0 136 154 169 157 109 147 140 137 137 136 142 141 139 129\n",
            "  123 201 146 138 172  21   0   0   0   0]\n",
            " [  0   0   0   0 145 158 171 175 111 136 145 136 135 138 137 143 146 140\n",
            "  122 184 167 136 170  58   0   0   0   0]\n",
            " [  0   0   0   0 151 155 189 183 120 135 132 136 135 133 128 130 134 120\n",
            "  153 230 156 135 167  83   0   0   0   0]\n",
            " [  0   0   0   1 166 151 208 175 116 142 144 138 149 133 131 137 140 119\n",
            "  126 206 198 141 166 101   0   0   0   0]\n",
            " [  0   0   0   6 169 146 237 187 104 131 136 149 147 137 137 137 132 137\n",
            "  113 166 206 151 162 126   0   0   0   0]\n",
            " [  0   0   0  20 180 136 231 214 105 134 140 139 136 137 136 148 134 149\n",
            "  111 139 255 151 158 147   0   0   0   0]\n",
            " [  0   0   0  33 184 109 217 182 105 124 143 131 135 137 139 138 131 142\n",
            "  132  99 249 162 157 172   0   0   0   0]\n",
            " [  0   0   0  35 180 112 233 143 109 133 145 146 142 142 139 141 135 141\n",
            "  152 101 205 163 154 170   0   0   0   0]\n",
            " [  0   0   0  42 183 123 217 117 126 137 140 134 137 135 143 141 133 133\n",
            "  149 107 166 176 153 169  14   0   0   0]\n",
            " [  0   0   0  48 175 147 210 101 119 136 142 137 142 139 147 142 146 126\n",
            "  138 102 131 197 161 183  32   0   0   0]\n",
            " [  0   0   0  56 165 163 213  74 126 138 149 133 133 132 141 134 142 132\n",
            "  132 126 117 193 162 172  39   0   0   0]\n",
            " [  0   0   0  62 157 165 227  39 135 138 136 142 146 143 136 138 134 141\n",
            "  134 116  78 197 171 156  44   0   0   0]\n",
            " [  0   0   0  65 162 169 245  39 140 133 133 128 132 134 143 145 134 133\n",
            "  134 128  36 208 172 151  55   0   0   0]\n",
            " [  0   0   0  72 147 168 244  25 142 137 138 133 128 132 147 145 135 136\n",
            "  133 131  26 207 173 149  67   0   0   0]\n",
            " [  0   0   0  68 153 179 250  11 135 134 139 133 136 140 140 143 145 140\n",
            "  131 126  32 207 175 136  73   0   0   0]\n",
            " [  0   0   0  61 155 180 252  23 151 132 131 133 133 129 135 140 132 139\n",
            "  132 139  38 221 174 135  77   0   0   0]\n",
            " [  0   0   0  18 147 187 185   3 173 153 151 150 153 150 150 153 148 151\n",
            "  146 161   4 184 175 136  37   0   0   0]\n",
            " [  0   0   0   0 150 204  76   0 213 165 167 170 172 171 169 170 172 167\n",
            "  160 202   0 107 196 152   0   0   0   0]\n",
            " [  0   0   0   0 123 162  41   2 153 124 133 136 141 135 132 134 139 144\n",
            "  141 132   0  67 153 142   0   0   0   0]\n",
            " [  0   0   0   0   0   0   0   0   0   0   0   0   0   0   0   0   0   0\n",
            "    0   0   0   0   0   0   0   0   0   0]]\n"
          ],
          "name": "stdout"
        },
        {
          "output_type": "display_data",
          "data": {
            "image/png": "[encoded data removed]",
            "text/plain": [
              "<Figure size 432x288 with 1 Axes>"
            ]
          },
          "metadata": {
            "tags": []
          }
        }
      ]
    },
    {
      "cell_type": "markdown",
      "metadata": {
        "id": "akDwbQfSErjB",
        "colab_type": "text"
      },
      "source": [
        "Normalizing and converting into binary rather than 0 to 255. Now you might be wondering why there are 2 sets...training and testing -- remember we spoke about this in the intro? The idea is to have 1 set of data for training, and then another set of data...that the model hasn't yet seen...to see how good it would be at classifying values. After all, when you're done, you're going to want to try it out with data that it hadn't previously seen!"
      ]
    },
    {
      "cell_type": "code",
      "metadata": {
        "id": "V6Qqoyn7EzKG",
        "colab_type": "code",
        "colab": {}
      },
      "source": [
        "training_images  = training_images / 255.0\n",
        "test_images = test_images / 255.0"
      ],
      "execution_count": 0,
      "outputs": []
    },
    {
      "cell_type": "markdown",
      "metadata": {
        "id": "_w2X0QW3FK7N",
        "colab_type": "text"
      },
      "source": [
        "Let's now design the model.\n",
        "\n",
        "**Sequential**: That defines a SEQUENCE of layers in the neural network\n",
        "\n",
        "**Flatten**: Remember earlier where our images were a square, when you printed them out? Flatten just takes that square and turns it into a 1 dimensional set.\n",
        "\n",
        "**Dense**: Adds a layer of neurons\n",
        "\n",
        "Each layer of neurons need an activation function to tell them what to do. There's lots of options, but just use these for now.\n",
        "\n",
        "**Relu** effectively means \"If X>0 return X, else return 0\" -- so what it does it it only passes values 0 or greater to the next layer in the network.\n",
        "\n",
        "**Softmax** takes a set of values, and effectively picks the biggest one, so, for example, if the output of the last layer looks like [0.1, 0.1, 0.05, 0.1, 9.5, 0.1, 0.05, 0.05, 0.05], it saves you from fishing through it looking for the biggest value, and turns it into [0,0,0,0,1,0,0,0,0] -- The goal is to save a lot of coding!"
      ]
    },
    {
      "cell_type": "code",
      "metadata": {
        "id": "Gg73gBflFwE9",
        "colab_type": "code",
        "colab": {}
      },
      "source": [
        "model = tf.keras.models.Sequential([tf.keras.layers.Flatten(), \n",
        "                                    tf.keras.layers.Dense(128, activation=tf.nn.relu), \n",
        "                                    tf.keras.layers.Dense(10, activation=tf.nn.softmax)])"
      ],
      "execution_count": 0,
      "outputs": []
    },
    {
      "cell_type": "markdown",
      "metadata": {
        "id": "PdcrBO8YGFYH",
        "colab_type": "text"
      },
      "source": [
        "The next thing to do, now the model is defined, is to actually build it. You do this by compiling it with an optimizer and loss function as before -- and then you train it by calling *model.fit * asking it to fit your training data to your training labels"
      ]
    },
    {
      "cell_type": "code",
      "metadata": {
        "id": "TtaIUZu0GAjY",
        "colab_type": "code",
        "colab": {
          "base_uri": "https://localhost:8080/",
          "height": 445
        },
        "outputId": "9b145b19-1dbb-4163-c8d9-f6cc1e9e0ffe"
      },
      "source": [
        "model.compile(optimizer = tf.train.AdamOptimizer(),\n",
        "              loss = 'sparse_categorical_crossentropy',\n",
        "              metrics=['accuracy'])\n",
        "\n",
        "model.fit(training_images, training_labels, epochs=10)"
      ],
      "execution_count": 9,
      "outputs": [
        {
          "output_type": "stream",
          "text": [
            "WARNING:tensorflow:From /usr/local/lib/python3.6/dist-packages/tensorflow/python/ops/resource_variable_ops.py:435: colocate_with (from tensorflow.python.framework.ops) is deprecated and will be removed in a future version.\n",
            "Instructions for updating:\n",
            "Colocations handled automatically by placer.\n",
            "Epoch 1/10\n",
            "60000/60000 [==============================] - 5s 91us/sample - loss: 0.5036 - acc: 0.8221\n",
            "Epoch 2/10\n",
            "60000/60000 [==============================] - 5s 82us/sample - loss: 0.3769 - acc: 0.8643\n",
            "Epoch 3/10\n",
            "60000/60000 [==============================] - 5s 80us/sample - loss: 0.3406 - acc: 0.8767\n",
            "Epoch 4/10\n",
            "60000/60000 [==============================] - 5s 82us/sample - loss: 0.3153 - acc: 0.8849\n",
            "Epoch 5/10\n",
            "60000/60000 [==============================] - 5s 81us/sample - loss: 0.2961 - acc: 0.8917\n",
            "Epoch 6/10\n",
            "60000/60000 [==============================] - 5s 80us/sample - loss: 0.2823 - acc: 0.8955\n",
            "Epoch 7/10\n",
            "60000/60000 [==============================] - 5s 80us/sample - loss: 0.2711 - acc: 0.8987\n",
            "Epoch 8/10\n",
            "60000/60000 [==============================] - 5s 79us/sample - loss: 0.2595 - acc: 0.9044\n",
            "Epoch 9/10\n",
            "60000/60000 [==============================] - 5s 79us/sample - loss: 0.2493 - acc: 0.9060\n",
            "Epoch 10/10\n",
            "60000/60000 [==============================] - 5s 86us/sample - loss: 0.2432 - acc: 0.9098\n"
          ],
          "name": "stdout"
        },
        {
          "output_type": "execute_result",
          "data": {
            "text/plain": [
              "<tensorflow.python.keras.callbacks.History at 0x7f834765e2b0>"
            ]
          },
          "metadata": {
            "tags": []
          },
          "execution_count": 9
        }
      ]
    },
    {
      "cell_type": "markdown",
      "metadata": {
        "id": "IzdxcqRDG0ZG",
        "colab_type": "text"
      },
      "source": [
        "But how would it work with unseen data? That's why we have the test images. We can call model.evaluate, and pass in the two sets, and it will report back the loss for each. Let's give it a try:"
      ]
    },
    {
      "cell_type": "code",
      "metadata": {
        "id": "YJPLEYITG3Uw",
        "colab_type": "code",
        "colab": {
          "base_uri": "https://localhost:8080/",
          "height": 51
        },
        "outputId": "1e347c8a-6d11-4d99-e98e-f214385ae228"
      },
      "source": [
        "model.evaluate(test_images, test_labels)"
      ],
      "execution_count": 10,
      "outputs": [
        {
          "output_type": "stream",
          "text": [
            "10000/10000 [==============================] - 0s 45us/sample - loss: 0.3290 - acc: 0.8860\n"
          ],
          "name": "stdout"
        },
        {
          "output_type": "execute_result",
          "data": {
            "text/plain": [
              "[0.3290477181434631, 0.886]"
            ]
          },
          "metadata": {
            "tags": []
          },
          "execution_count": 10
        }
      ]
    },
    {
      "cell_type": "markdown",
      "metadata": {
        "id": "feCwdx41O2C7",
        "colab_type": "text"
      },
      "source": [
        "Probability on being in a class"
      ]
    },
    {
      "cell_type": "code",
      "metadata": {
        "id": "IR2KJBNZHSG9",
        "colab_type": "code",
        "colab": {
          "base_uri": "https://localhost:8080/",
          "height": 51
        },
        "outputId": "281563d5-75a2-401e-8654-16a26f527db5"
      },
      "source": [
        "classifications = model.predict(test_images)\n",
        "\n",
        "print(classifications[1])"
      ],
      "execution_count": 14,
      "outputs": [
        {
          "output_type": "stream",
          "text": [
            "[4.2249585e-06 7.2314117e-14 9.9824119e-01 2.1737324e-11 1.3716891e-03\n",
            " 5.9951686e-13 3.8295277e-04 1.1205214e-16 1.3439092e-10 1.9219681e-14]\n"
          ],
          "name": "stdout"
        }
      ]
    },
    {
      "cell_type": "markdown",
      "metadata": {
        "id": "FOPn99QUO9oO",
        "colab_type": "text"
      },
      "source": [
        "Print the class label"
      ]
    },
    {
      "cell_type": "code",
      "metadata": {
        "id": "WaC1a0mBOXbM",
        "colab_type": "code",
        "colab": {
          "base_uri": "https://localhost:8080/",
          "height": 34
        },
        "outputId": "3ebd8775-db30-40cc-e5f6-cef8d085d136"
      },
      "source": [
        "print(test_labels[1])"
      ],
      "execution_count": 13,
      "outputs": [
        {
          "output_type": "stream",
          "text": [
            "2\n"
          ],
          "name": "stdout"
        }
      ]
    }
  ]
}